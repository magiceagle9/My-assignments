{
  "nbformat": 4,
  "nbformat_minor": 0,
  "metadata": {
    "colab": {
      "name": "(3).ipynb",
      "provenance": [],
      "authorship_tag": "ABX9TyMQk0PEpwT7e4KJhzk435dW",
      "include_colab_link": true
    },
    "kernelspec": {
      "name": "python3",
      "display_name": "Python 3"
    }
  },
  "cells": [
    {
      "cell_type": "markdown",
      "metadata": {
        "id": "view-in-github",
        "colab_type": "text"
      },
      "source": [
        "<a href=\"https://colab.research.google.com/github/magiceagle9/My-assignments/blob/main/(3).ipynb\" target=\"_parent\"><img src=\"https://colab.research.google.com/assets/colab-badge.svg\" alt=\"Open In Colab\"/></a>"
      ]
    },
    {
      "cell_type": "code",
      "metadata": {
        "colab": {
          "base_uri": "https://localhost:8080/"
        },
        "id": "F--2lc0mm8EN",
        "outputId": "7e47a1bc-7ccd-4edc-92d4-e6e7a0c9b5cf"
      },
      "source": [
        "#Name -Ashwini Raghu\n",
        "#Roll number -11\n",
        "#My randomnly generated quote is...\n",
        "# Like a hog or dog in the manger he doth only keep it because it shall do nobody else good hurting himself and others\n",
        "#Inputing my quote\n",
        "\n",
        "quote=str(input(\"Enter your quote : \"))\n",
        "count_v = 0\n",
        "count_c= 0\n",
        "count_sc=0\n",
        "count_ws=0\n",
        "count_w=0\n",
        " \n",
        "# Creating a set of vowels \n",
        "vowel = set(\"aeiouAEIOU\") \n",
        "#Creating a set of consonants\n",
        "consonants=set(\"bcdfghjklmnpqrstvwxyzBCDFGHJKLMNPQRSTVWXYZ\")\n",
        "#Creating a set of special characters\n",
        "specialcharacters=set(\"@#$%\")\n",
        "#Creating set of whitespace\n",
        "whitespaces=set(\" \")\n",
        "\n",
        "#Applying conditions\n",
        "\n",
        "for alphabet in quote:\n",
        " \t if alphabet in vowel:\n",
        " \t \t  count_v = count_v + 1\n",
        " \t if alphabet in consonants:\n",
        " \t       count_c=count_c+1\n",
        " \t if alphabet in specialcharacters:\n",
        " \t \t  count_sc=count_sc+1\n",
        " \t if alphabet in whitespaces:\n",
        " \t \t  count_ws=count_ws+1\n",
        " \t \t  \n",
        "count_w=count_ws+1\n",
        " \t \n",
        "#printing my result\n",
        "print(\"No. of vowels :\", count_v) \n",
        "print(\"No of consonants : \",count_c)\n",
        "print(\"No of special characters : \",count_sc)\n",
        "print(\"No of words : \",count_w)\n"
      ],
      "execution_count": 3,
      "outputs": [
        {
          "output_type": "stream",
          "text": [
            "Enter your quote : Like a hog or dog in the manger he doth only keep it because it shall do nobody else good hurting himself and others\n",
            "No. of vowels : 36\n",
            "No of consonants :  57\n",
            "No of special characters :  0\n",
            "No of words :  24\n"
          ],
          "name": "stdout"
        }
      ]
    }
  ]
}